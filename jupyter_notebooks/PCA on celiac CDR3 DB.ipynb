{
 "cells": [
  {
   "cell_type": "code",
   "execution_count": 3,
   "metadata": {},
   "outputs": [
    {
     "name": "stdout",
     "output_type": "stream",
     "text": [
      "/media/miri-o/Documents\n"
     ]
    },
    {
     "data": {
      "text/html": [
       "<div>\n",
       "<style>\n",
       "    .dataframe thead tr:only-child th {\n",
       "        text-align: right;\n",
       "    }\n",
       "\n",
       "    .dataframe thead th {\n",
       "        text-align: left;\n",
       "    }\n",
       "\n",
       "    .dataframe tbody tr th {\n",
       "        vertical-align: top;\n",
       "    }\n",
       "</style>\n",
       "<table border=\"1\" class=\"dataframe\">\n",
       "  <thead>\n",
       "    <tr style=\"text-align: right;\">\n",
       "      <th></th>\n",
       "      <th>SAMPLE</th>\n",
       "      <th>SUBJECT</th>\n",
       "      <th>CONDITION</th>\n",
       "      <th>JUNCTION</th>\n",
       "      <th>JUNC_AA</th>\n",
       "    </tr>\n",
       "  </thead>\n",
       "  <tbody>\n",
       "    <tr>\n",
       "      <th>52411</th>\n",
       "      <td>2</td>\n",
       "      <td>HC-09 (BB)</td>\n",
       "      <td>HC</td>\n",
       "      <td>TGTGTCAAGCACTATTGTAGTAGTACCAGCTGCTATTCTCTCTGGT...</td>\n",
       "      <td>KHYCSSTSCYSLWFDP</td>\n",
       "    </tr>\n",
       "  </tbody>\n",
       "</table>\n",
       "</div>"
      ],
      "text/plain": [
       "       SAMPLE     SUBJECT CONDITION  \\\n",
       "52411       2  HC-09 (BB)        HC   \n",
       "\n",
       "                                                JUNCTION           JUNC_AA  \n",
       "52411  TGTGTCAAGCACTATTGTAGTAGTACCAGCTGCTATTCTCTCTGGT...  KHYCSSTSCYSLWFDP  "
      ]
     },
     "execution_count": 3,
     "metadata": {},
     "output_type": "execute_result"
    }
   ],
   "source": [
    "%cd /media/miri-o/Documents/\n",
    "import pandas as pd\n",
    "import biovec\n",
    "Celiac_model = biovec.models.load_protvec('trained_models/CDR3_model_Celiac_based_20180506.txt')\n",
    "infile = pd.read_csv('CDR3_from_Celiac_full.csv2018-05-10-1100', sep='\\t')\n",
    "infile.sample()"
   ]
  },
  {
   "cell_type": "code",
   "execution_count": null,
   "metadata": {},
   "outputs": [],
   "source": []
  }
 ],
 "metadata": {
  "kernelspec": {
   "display_name": "Python 3",
   "language": "python",
   "name": "python3"
  },
  "language_info": {
   "codemirror_mode": {
    "name": "ipython",
    "version": 3
   },
   "file_extension": ".py",
   "mimetype": "text/x-python",
   "name": "python",
   "nbconvert_exporter": "python",
   "pygments_lexer": "ipython3",
   "version": "3.6.3"
  }
 },
 "nbformat": 4,
 "nbformat_minor": 2
}
