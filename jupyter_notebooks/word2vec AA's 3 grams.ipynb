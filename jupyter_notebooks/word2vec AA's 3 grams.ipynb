{
 "cells": [
  {
   "cell_type": "code",
   "execution_count": 2,
   "metadata": {
    "collapsed": true
   },
   "outputs": [],
   "source": [
    "import seaborn as sns\n",
    "import matplotlib.pyplot as plt\n",
    "import pandas as pd\n",
    "import numpy as np\n",
    "from sklearn.manifold import TSNE\n",
    "import statistics"
   ]
  },
  {
   "cell_type": "markdown",
   "metadata": {},
   "source": [
    "load the model (you can start fom here if the model already exists)"
   ]
  },
  {
   "cell_type": "code",
   "execution_count": 3,
   "metadata": {},
   "outputs": [
    {
     "name": "stdout",
     "output_type": "stream",
     "text": [
      "/home/miri-o/Documents\n"
     ]
    }
   ],
   "source": [
    "%cd /home/miri-o/Documents/\n",
    "import biovec\n",
    "CDR3_cropped_model = biovec.models.load_protvec('CDR3_cropped_model')"
   ]
  },
  {
   "cell_type": "markdown",
   "metadata": {},
   "source": [
    "load a file containing CDR3s and their bio-physical and bio-chemical properties:"
   ]
  },
  {
   "cell_type": "code",
   "execution_count": 5,
   "metadata": {},
   "outputs": [
    {
     "ename": "NameError",
     "evalue": "name 'clustering' is not defined",
     "output_type": "error",
     "traceback": [
      "\u001b[0;31m---------------------------------------------------------------------------\u001b[0m",
      "\u001b[0;31mNameError\u001b[0m                                 Traceback (most recent call last)",
      "\u001b[0;32m<ipython-input-5-5391cc59f28f>\u001b[0m in \u001b[0;36m<module>\u001b[0;34m()\u001b[0m\n\u001b[1;32m     19\u001b[0m \u001b[0mvec_embedded\u001b[0m \u001b[0;34m=\u001b[0m \u001b[0mTSNE\u001b[0m\u001b[0;34m(\u001b[0m\u001b[0mn_components\u001b[0m\u001b[0;34m=\u001b[0m\u001b[0;36m2\u001b[0m\u001b[0;34m,\u001b[0m \u001b[0minit\u001b[0m \u001b[0;34m=\u001b[0m \u001b[0;34m'pca'\u001b[0m\u001b[0;34m,\u001b[0m \u001b[0mrandom_state\u001b[0m \u001b[0;34m=\u001b[0m\u001b[0;36m0\u001b[0m\u001b[0;34m)\u001b[0m\u001b[0;34m.\u001b[0m\u001b[0mfit_transform\u001b[0m\u001b[0;34m(\u001b[0m\u001b[0mrandvectors_word2vec\u001b[0m\u001b[0;34m)\u001b[0m\u001b[0;34m\u001b[0m\u001b[0m\n\u001b[1;32m     20\u001b[0m data = pd.DataFrame({'polarity':file_with_propeties['CDR3_AA_POLARITY'][random_indexes], \n\u001b[0;32m---> 21\u001b[0;31m                      \u001b[0;34m'cluster'\u001b[0m\u001b[0;34m:\u001b[0m\u001b[0mclustering\u001b[0m\u001b[0;34m.\u001b[0m\u001b[0mlabels_\u001b[0m\u001b[0;34m,\u001b[0m\u001b[0;34m\u001b[0m\u001b[0m\n\u001b[0m\u001b[1;32m     22\u001b[0m                    \u001b[0;34m'charge'\u001b[0m\u001b[0;34m:\u001b[0m\u001b[0mfile_with_propeties\u001b[0m\u001b[0;34m[\u001b[0m\u001b[0;34m'CDR3_AA_CHARGE'\u001b[0m\u001b[0;34m]\u001b[0m\u001b[0;34m[\u001b[0m\u001b[0mrandom_indexes\u001b[0m\u001b[0;34m]\u001b[0m\u001b[0;34m,\u001b[0m\u001b[0;34m\u001b[0m\u001b[0m\n\u001b[1;32m     23\u001b[0m                    \u001b[0;34m'jun_len'\u001b[0m\u001b[0;34m:\u001b[0m\u001b[0mfile_with_propeties\u001b[0m\u001b[0;34m[\u001b[0m\u001b[0;34m'JUNC_AA_LEN'\u001b[0m\u001b[0;34m]\u001b[0m\u001b[0;34m[\u001b[0m\u001b[0mrandom_indexes\u001b[0m\u001b[0;34m]\u001b[0m\u001b[0;34m,\u001b[0m\u001b[0;34m\u001b[0m\u001b[0m\n",
      "\u001b[0;31mNameError\u001b[0m: name 'clustering' is not defined"
     ]
    }
   ],
   "source": [
    "file_with_propeties = pd.read_csv('CDR3_properties_HCV.csv')\n",
    "file_with_propeties.head()\n",
    "import re\n",
    "file_with_propeties['CONDITION'] = [re.split('\\d', condition)[0] for condition in file_with_propeties['SUBJECT']]\n",
    "file_with_propeties['CONDITION'].head()\n",
    "n = 5000\n",
    "np.random.seed(1)\n",
    "random_indexes = np.random.choice(range(len(file_with_propeties['JUNC_AA'])),n)\n",
    "randvectors_word2vec = np.zeros((n,100))\n",
    "\n",
    "index = 0\n",
    "for i in random_indexes :\n",
    "    word = file_with_propeties.loc[i, ('JUNC_AA')]\n",
    "    randvectors_word2vec[index] = list(CDR3_cropped_model.to_vecs(word)[0])\n",
    "    index+=1\n",
    "\n",
    "\n",
    "#randvectors_word2vec[0]\n",
    "vec_embedded = TSNE(n_components=2, init = 'pca', random_state =0).fit_transform(randvectors_word2vec)\n"
   ]
  },
  {
   "cell_type": "code",
   "execution_count": 7,
   "metadata": {},
   "outputs": [],
   "source": [
    "from sklearn.cluster import AgglomerativeClustering\n",
    "clustering = AgglomerativeClustering(linkage='average', n_clusters=12)\n",
    "clustering.fit(vec_embedded)\n",
    "data = pd.DataFrame({'polarity':file_with_propeties['CDR3_AA_POLARITY'][random_indexes], \n",
    "                     'cluster':clustering.labels_,\n",
    "                   'charge':file_with_propeties['CDR3_AA_CHARGE'][random_indexes],\n",
    "                   'jun_len':file_with_propeties['JUNC_AA_LEN'][random_indexes],\n",
    "                    'condition':file_with_propeties['CONDITION'][random_indexes],\n",
    "                    'junction':[line[2:-1] for line in file_with_propeties['JUNC_AA'][random_indexes]]})"
   ]
  },
  {
   "cell_type": "code",
   "execution_count": 8,
   "metadata": {},
   "outputs": [
    {
     "data": {
      "image/png": "[encoded data removed]",
      "text/plain": [
       "<matplotlib.figure.Figure at 0x7f59f298b860>"
      ]
     },
     "metadata": {},
     "output_type": "display_data"
    }
   ],
   "source": [
    "\n",
    "sns.boxplot(x = 'cluster', y = 'charge', data = data)\n",
    "plt.show()"
   ]
  },
  {
   "cell_type": "code",
   "execution_count": 9,
   "metadata": {},
   "outputs": [
    {
     "data": {
      "image/png": "[encoded data removed]",
      "text/plain": [
       "<matplotlib.figure.Figure at 0x7f5971b66518>"
      ]
     },
     "metadata": {},
     "output_type": "display_data"
    }
   ],
   "source": [
    "\n",
    "sns.boxplot(x = 'cluster', y = 'jun_len', data = data)\n",
    "plt.show()"
   ]
  },
  {
   "cell_type": "code",
   "execution_count": 10,
   "metadata": {},
   "outputs": [
    {
     "data": {
      "image/png": "[encoded data removed]",
      "text/plain": [
       "<matplotlib.figure.Figure at 0x7f5971a405c0>"
      ]
     },
     "metadata": {},
     "output_type": "display_data"
    }
   ],
   "source": [
    "plt.hist(file_with_propeties['CONDITION'], bins = 5)\n",
    "plt.xticks(rotation=90)\n",
    "plt.title('condition distribution general population')\n",
    "plt.show()"
   ]
  },
  {
   "cell_type": "code",
   "execution_count": 11,
   "metadata": {},
   "outputs": [
    {
     "data": {
      "image/png": "[encoded data removed]",
      "text/plain": [
       "<matplotlib.figure.Figure at 0x7f5a1c13a198>"
      ]
     },
     "metadata": {},
     "output_type": "display_data"
    }
   ],
   "source": [
    "sns.countplot(x = 'cluster', hue = 'condition', data = data)\n",
    "plt.title('condition distribution between clusters')\n",
    "plt.show()"
   ]
  },
  {
   "cell_type": "code",
   "execution_count": 12,
   "metadata": {},
   "outputs": [
    {
     "ename": "NameError",
     "evalue": "name 'plot_clustering' is not defined",
     "output_type": "error",
     "traceback": [
      "\u001b[0;31m---------------------------------------------------------------------------\u001b[0m",
      "\u001b[0;31mNameError\u001b[0m                                 Traceback (most recent call last)",
      "\u001b[0;32m<ipython-input-12-2c829eed7752>\u001b[0m in \u001b[0;36m<module>\u001b[0;34m()\u001b[0m\n\u001b[1;32m      1\u001b[0m \u001b[0mcondition_dict\u001b[0m \u001b[0;34m=\u001b[0m \u001b[0;34m{\u001b[0m\u001b[0;34m'CI'\u001b[0m\u001b[0;34m:\u001b[0m\u001b[0;36m1\u001b[0m\u001b[0;34m,\u001b[0m \u001b[0;34m'SC'\u001b[0m\u001b[0;34m:\u001b[0m\u001b[0;36m2\u001b[0m\u001b[0;34m,\u001b[0m \u001b[0;34m'C'\u001b[0m\u001b[0;34m:\u001b[0m\u001b[0;36m3\u001b[0m\u001b[0;34m}\u001b[0m\u001b[0;34m\u001b[0m\u001b[0m\n\u001b[0;32m----> 2\u001b[0;31m \u001b[0mplot_clustering\u001b[0m\u001b[0;34m(\u001b[0m\u001b[0mvec_embedded\u001b[0m\u001b[0;34m,\u001b[0m \u001b[0;34m[\u001b[0m\u001b[0mcondition_dict\u001b[0m\u001b[0;34m[\u001b[0m\u001b[0mi\u001b[0m\u001b[0;34m]\u001b[0m \u001b[0;32mfor\u001b[0m \u001b[0mi\u001b[0m \u001b[0;32min\u001b[0m \u001b[0mdata\u001b[0m\u001b[0;34m.\u001b[0m\u001b[0mcondition\u001b[0m\u001b[0;34m]\u001b[0m\u001b[0;34m,\u001b[0m \u001b[0;34m'Condition distributions'\u001b[0m\u001b[0;34m)\u001b[0m\u001b[0;34m\u001b[0m\u001b[0m\n\u001b[0m",
      "\u001b[0;31mNameError\u001b[0m: name 'plot_clustering' is not defined"
     ]
    }
   ],
   "source": [
    "condition_dict = {'CI':1, 'SC':2, 'C':3}\n",
    "plot_clustering(vec_embedded, [condition_dict[i] for i in data.condition], 'Condition distributions')\n"
   ]
  },
  {
   "cell_type": "code",
   "execution_count": null,
   "metadata": {},
   "outputs": [],
   "source": [
    "data[(data.cluster==7)]"
   ]
  },
  {
   "cell_type": "code",
   "execution_count": null,
   "metadata": {},
   "outputs": [],
   "source": [
    "from Bio.Alphabet import generic_dna\n",
    "from Bio.Seq import Seq\n",
    "from Bio.SeqRecord import SeqRecord\n",
    "from Bio.Align import MultipleSeqAlignment\n",
    "a = SeqRecord(Seq(\"AAA\", generic_dna), id=\"Alpha\")\n",
    "b = SeqRecord(Seq(\"AAG\", generic_dna), id=\"Beta\")\n",
    "c = SeqRecord(Seq(\"GAA\", generic_dna), id=\"Gamma\")\n",
    "align = MultipleSeqAlignment([a,b,c], annotations={\"tool\": \"demo\"})\n",
    "print(align)\n"
   ]
  },
  {
   "cell_type": "code",
   "execution_count": null,
   "metadata": {
    "collapsed": true
   },
   "outputs": [],
   "source": [
    "\n",
    "def plot_embedding_with_properties(X, prop, title=None):\n",
    "    # normalize property\n",
    "    #prop = [(c - min(prop))/(max(prop)-min(prop))*100 for c in prop]\n",
    "\n",
    "    x = X[:,0]\n",
    "    y = X[:,1]\n",
    "\n",
    "    sc = plt.scatter(x, y, c=prop, s=3,cmap='plasma', alpha = .5)\n",
    "    plt.colorbar(sc)\n",
    "    plt.xlabel('tSNE component 1')\n",
    "    plt.ylabel('tSNE component 2')\n",
    "\n",
    "    if title is not None:\n",
    "        plt.title(title)\n",
    "    #plt.show()\n",
    "    #plt.colorbar()"
   ]
  },
  {
   "cell_type": "code",
   "execution_count": null,
   "metadata": {
    "collapsed": true
   },
   "outputs": [],
   "source": [
    "import time.time\n",
    "t0 = time()\n"
   ]
  },
  {
   "cell_type": "code",
   "execution_count": null,
   "metadata": {
    "collapsed": true
   },
   "outputs": [],
   "source": [
    "from mpl_toolkits.mplot3d import Axes3D\n",
    "\n",
    "def plot_embedding_3D(X, prop,title=None):\n",
    "    \n",
    "    x = [X[i,0] for i in range(len(X))]\n",
    "    y = [X[i,1] for i in range(len(X))]\n",
    "\n",
    "    fig = plt.figure()\n",
    "    ax = fig.add_subplot(111, projection='3d')\n",
    "    ax.scatter(x, y, prop, c=prop)\n",
    "\n",
    "    ax.set_xlabel('X Label')\n",
    "    ax.set_ylabel('Y Label')\n",
    "    ax.set_zlabel('Z Label')\n",
    "\n",
    "    plt.show()\n"
   ]
  },
  {
   "cell_type": "code",
   "execution_count": null,
   "metadata": {
    "collapsed": true
   },
   "outputs": [],
   "source": [
    "acid = file_with_propeties.loc[random_indexes, ('CDR3_AA_ACIDIC')]\n",
    "\n",
    "basis = np.array([(c - min(charge))/(max(charge)-min(charge))*100 for c in basis])\n",
    "plot_embedding_with_properties(vec_embedded, basis, title='CDR3 marked by basis')\n",
    "CDR3_AA_ACIDIC"
   ]
  },
  {
   "cell_type": "markdown",
   "metadata": {},
   "source": [
    "### Mapping all 3-grams "
   ]
  },
  {
   "cell_type": "code",
   "execution_count": 13,
   "metadata": {
    "collapsed": true
   },
   "outputs": [],
   "source": [
    "# take 8000 3-grams and map them the same way\n",
    "import itertools\n",
    "n = 3\n",
    "prot_ngrams = [list(n) for n in itertools.product('ACDEFGHIKLMNPQRSTVWY', repeat = n)]\n",
    "prot_ngrams = [''.join(ngram) for ngram in prot_ngrams]\n"
   ]
  },
  {
   "cell_type": "code",
   "execution_count": 14,
   "metadata": {},
   "outputs": [
    {
     "name": "stdout",
     "output_type": "stream",
     "text": [
      "Could not convert ngram:  CIC\n",
      "Could not convert ngram:  CKC\n",
      "Could not convert ngram:  CMC\n",
      "Could not convert ngram:  CMQ\n",
      "Could not convert ngram:  CTC\n",
      "Could not convert ngram:  MCI\n",
      "Could not convert ngram:  MCK\n",
      "Could not convert ngram:  MHK\n",
      "Could not convert ngram:  QCM\n",
      "Could not convert ngram:  QCQ\n",
      "Could not convert ngram:  QMC\n",
      "Could not convert ngram:  WMC\n"
     ]
    }
   ],
   "source": [
    "prot_ngram_vecs = {}\n",
    "prot_ngram_vecs = prot_ngram_vecs.fromkeys(prot_ngrams, 0)\n",
    "\n",
    "for ngram in prot_ngrams:\n",
    "    try:\n",
    "        prot_ngram_vecs[ngram] = list(CDR3_cropped_model.to_vecs(ngram)[0])\n",
    "    except:\n",
    "        print('Could not convert ngram: ', ngram) \n",
    "    "
   ]
  },
  {
   "cell_type": "code",
   "execution_count": 15,
   "metadata": {},
   "outputs": [
    {
     "data": {
      "text/plain": [
       "0"
      ]
     },
     "execution_count": 15,
     "metadata": {},
     "output_type": "execute_result"
    }
   ],
   "source": [
    "prot_ngram_vecs['CIC']\n",
    "## TODO: remove the unsupported sequences from the data!!!"
   ]
  },
  {
   "cell_type": "code",
   "execution_count": 16,
   "metadata": {
    "collapsed": true
   },
   "outputs": [],
   "source": [
    "# ceate file for properties\n",
    "\n",
    "# Open File\n",
    "resultfile = open(\"prot_ngrams.csv\",'w')\n",
    "resultfile.write('N gram'+ \"\\n\")\n",
    "# Write data to file\n",
    "for r in prot_ngrams:\n",
    "    resultfile.write(r + \"\\n\")\n",
    "resultfile.close()"
   ]
  },
  {
   "cell_type": "code",
   "execution_count": 17,
   "metadata": {},
   "outputs": [
    {
     "name": "stdout",
     "output_type": "stream",
     "text": [
      "Unknown error 25312\n",
      "Unknown error 42811\n",
      "Unknown error 42999\n",
      "Unknown error 53871\n",
      "Unknown error 55666\n",
      "Unknown error 64849\n",
      "Unknown error 92764\n",
      "Unknown error 93478\n",
      "Unknown error 102572\n",
      "Unknown error 111314\n",
      "Unknown error 117387\n",
      "Unknown error 142192\n",
      "Unknown error 161595\n",
      "Unknown error 168130\n",
      "Unknown error 171109\n",
      "Unknown error 193952\n",
      "Unknown error 198647\n",
      "Unknown error 211001\n",
      "Unknown error 220035\n",
      "Unknown error 230156\n",
      "Unknown error 238180\n",
      "Unknown error 241349\n",
      "Unknown error 249155\n",
      "Unknown error 251888\n",
      "Unknown error 254275\n",
      "Unknown error 257522\n",
      "Unknown error 258628\n",
      "Unknown error 259443\n",
      "Unknown error 259937\n",
      "Unknown error 260526\n",
      "Unknown error 286929\n",
      "Unknown error 288657\n",
      "Unknown error 301910\n",
      "Unknown error 303795\n",
      "Unknown error 310128\n",
      "Unknown error 313095\n",
      "Unknown error 323941\n",
      "Unknown error 327349\n",
      "Unknown error 328340\n",
      "Unknown error 328859\n",
      "Unknown error 340579\n",
      "Unknown error 357643\n",
      "Unknown error 367851\n",
      "Unknown error 373499\n",
      "Unknown error 379449\n",
      "Unknown error 387888\n",
      "Unknown error 396485\n",
      "Unknown error 426243\n",
      "Unknown error 430400\n",
      "Unknown error 431631\n",
      "Unknown error 437011\n",
      "Unknown error 441515\n",
      "Unknown error 444291\n",
      "Unknown error 444618\n",
      "Unknown error 444921\n",
      "Unknown error 445468\n",
      "Unknown error 446503\n",
      "Unknown error 462021\n",
      "Unknown error 465885\n",
      "Unknown error 483938\n",
      "Unknown error 520605\n",
      "Unknown error 521279\n",
      "Unknown error 531550\n",
      "Unknown error 538051\n",
      "Unknown error 544388\n",
      "Unknown error 545120\n",
      "Unknown error 551095\n",
      "Unknown error 555966\n",
      "Unknown error 559197\n",
      "Unknown error 563972\n",
      "Unknown error 570282\n",
      "Unknown error 580730\n",
      "Unknown error 580774\n",
      "Unknown error 602718\n",
      "Unknown error 603955\n",
      "Unknown error 604059\n",
      "Unknown error 607139\n",
      "Unknown error 607678\n",
      "Unknown error 610297\n",
      "Unknown error 611688\n",
      "Unknown error 617232\n",
      "Unknown error 617915\n",
      "Unknown error 618211\n",
      "Unknown error 626245\n",
      "Unknown error 631112\n",
      "Unknown error 633708\n",
      "Unknown error 638638\n",
      "Unknown error 640992\n",
      "Unknown error 675506\n",
      "Unknown error 679138\n",
      "Unknown error 692182\n",
      "Unknown error 694124\n",
      "Unknown error 698570\n",
      "Unknown error 699799\n",
      "Unknown error 700035\n",
      "Unknown error 705255\n",
      "Unknown error 708456\n",
      "Unknown error 708697\n",
      "Unknown error 709484\n",
      "Unknown error 711278\n",
      "Unknown error 717837\n",
      "Unknown error 717841\n",
      "Unknown error 719630\n",
      "Unknown error 720053\n",
      "Unknown error 720112\n",
      "Unknown error 725417\n",
      "Unknown error 726818\n",
      "Unknown error 729844\n",
      "Unknown error 732000\n",
      "Unknown error 733073\n",
      "Unknown error 734712\n",
      "Unknown error 738077\n",
      "Unknown error 742566\n",
      "Unknown error 744155\n",
      "Unknown error 744620\n",
      "Unknown error 746617\n",
      "Unknown error 747422\n",
      "Unknown error 765935\n",
      "Unknown error 770969\n",
      "Unknown error 799213\n",
      "Unknown error 804824\n",
      "Unknown error 805277\n",
      "Unknown error 810470\n",
      "Unknown error 830909\n",
      "Unknown error 832666\n",
      "Unknown error 835942\n",
      "Unknown error 876341\n",
      "Unknown error 923524\n",
      "Unknown error 933918\n",
      "Unknown error 938142\n",
      "Unknown error 938819\n",
      "Unknown error 940340\n",
      "Unknown error 943810\n",
      "Unknown error 946292\n",
      "Unknown error 947105\n",
      "Unknown error 952790\n",
      "Unknown error 954388\n",
      "Unknown error 962046\n",
      "Unknown error 965236\n",
      "Unknown error 966104\n",
      "Unknown error 967659\n",
      "Unknown error 970723\n",
      "Unknown error 971918\n",
      "Unknown error 972596\n",
      "Unknown error 972882\n",
      "Unknown error 975703\n",
      "Unknown error 978861\n",
      "Unknown error 980787\n",
      "Unknown error 985242\n",
      "Unknown error 996711\n",
      "Unknown error 998313\n",
      "Unknown error 1000629\n",
      "Unknown error 1004656\n",
      "Unknown error 1005786\n",
      "Unknown error 1006993\n",
      "Unknown error 1013149\n",
      "Unknown error 1017598\n",
      "Unknown error 1019326\n",
      "Unknown error 1023107\n",
      "Unknown error 1031346\n",
      "Unknown error 1055643\n",
      "Unknown error 1057618\n",
      "Unknown error 1061361\n",
      "Unknown error 1067692\n",
      "Unknown error 1070109\n",
      "Unknown error 1073103\n",
      "Unknown error 1082186\n",
      "Unknown error 1108494\n",
      "Unknown error 1122469\n",
      "Unknown error 1135154\n",
      "Unknown error 1143081\n",
      "Unknown error 1144800\n",
      "Unknown error 1164795\n",
      "Unknown error 1182511\n",
      "Unknown error 1189855\n",
      "Unknown error 1194924\n",
      "Unknown error 1227304\n",
      "Unknown error 1247186\n",
      "Unknown error 1283488\n",
      "Unknown error 1286741\n",
      "Unknown error 1290600\n",
      "Unknown error 1295479\n",
      "Unknown error 1302793\n",
      "Unknown error 1308458\n",
      "Unknown error 1309787\n",
      "Unknown error 1311530\n"
     ]
    }
   ],
   "source": [
    "vector_space = np.zeros_like(file_with_propeties['JUNC_AA'])\n",
    "index = 0\n",
    "for word in file_with_propeties['JUNC_AA']:\n",
    "    try:\n",
    "        vector_space[index] = list(CDR3_cropped_model.to_vecs(word)[0])\n",
    "    except:\n",
    "        print('Unknown error', str(index))\n",
    "        vector_space[index] = None\n",
    "    index+=1    \n",
    "            \n",
    "    "
   ]
  },
  {
   "cell_type": "code",
   "execution_count": 19,
   "metadata": {
    "collapsed": true
   },
   "outputs": [],
   "source": [
    "prot_ngrams_df = pd.DataFrame(prot_ngram_vecs)\n",
    "prot_ngrams_array = np.transpose(prot_ngrams_df.values)"
   ]
  },
  {
   "cell_type": "code",
   "execution_count": 20,
   "metadata": {
    "collapsed": true
   },
   "outputs": [],
   "source": [
    "vec_embedded_8000 = TSNE(n_components=2, init = 'pca', random_state =0).fit_transform(prot_ngrams_array)"
   ]
  },
  {
   "cell_type": "code",
   "execution_count": 21,
   "metadata": {},
   "outputs": [
    {
     "data": {
      "text/plain": [
       "'AAC'"
      ]
     },
     "execution_count": 21,
     "metadata": {},
     "output_type": "execute_result"
    }
   ],
   "source": [
    "prot_ngrams_df.columns[1]"
   ]
  },
  {
   "cell_type": "code",
   "execution_count": 25,
   "metadata": {},
   "outputs": [
    {
     "data": {
      "image/png": "[encoded data removed]",
      "text/plain": [
       "<matplotlib.figure.Figure at 0x7f587e604710>"
      ]
     },
     "metadata": {},
     "output_type": "display_data"
    }
   ],
   "source": [
    "plt.figure(figsize=(10, 10))\n",
    "plt.scatter(vec_embedded_8000[:,0], vec_embedded_8000[:,1], s=4)\n",
    "plt.show()"
   ]
  },
  {
   "cell_type": "code",
   "execution_count": null,
   "metadata": {
    "collapsed": true
   },
   "outputs": [],
   "source": [
    "import codecs\n",
    "import numpy as np\n",
    "import matplotlib as mpl\n",
    "import matplotlib.pyplot as plt\n",
    "#import mpld3\n",
    "from sklearn.manifold import TSNE\n",
    "from numpy import linalg as LA\n",
    "%matplotlib inline\n",
    "#mpld3.enable_notebook()\n",
    "\n",
    "\n",
    "\n",
    "def visualize(X_embedded, words):\n",
    "\n",
    "    # plot the words vectors with their labels\n",
    "    mpl.rcParams['figure.figsize'] = (12,12)\n",
    "    mpl.rcParams.update({'font.size': 10})\n",
    "    plt.scatter(X_embedded[:,0], X_embedded[:,1])\n",
    "    for word, x, y in zip(words, X_embedded[:,0], X_embedded[:,1]):\n",
    "        plt.annotate(word, xy=(x, y), xytext=(x,y), textcoords=\"data\")\n",
    "    plt.show()\n",
    "    "
   ]
  },
  {
   "cell_type": "code",
   "execution_count": null,
   "metadata": {
    "scrolled": false
   },
   "outputs": [],
   "source": [
    "%matplotlib notebook\n",
    "import mpld3\n",
    "visualize(vec_embedded_8000, prot_ngrams_df.columns)\n",
    "#plt.scatter(range(100), range(100), s=2)\n",
    "mpld3.disable_notebook()"
   ]
  },
  {
   "cell_type": "code",
   "execution_count": null,
   "metadata": {
    "collapsed": true
   },
   "outputs": [],
   "source": [
    "mpld3.disable_notebook()"
   ]
  },
  {
   "cell_type": "code",
   "execution_count": null,
   "metadata": {
    "scrolled": true
   },
   "outputs": [],
   "source": [
    "# read n-grams with properties (created by alakazm) to data frame\n",
    "ngrams_properties = pd.read_csv(\"prot_ngrams_properties.csv\")\n",
    "ngrams_properties.head()"
   ]
  },
  {
   "cell_type": "code",
   "execution_count": null,
   "metadata": {},
   "outputs": [],
   "source": [
    "%matplotlib inline\n",
    "plt.figure(figsize=(14, 3.5))\n",
    "plt.subplot(131)\n",
    "plot_embedding_with_properties(vec_embedded_8000, ngrams_properties['CDR3_AA_CHARGE'].tolist(), title='Charge')\n",
    "plt.subplot(132)\n",
    "plot_embedding_with_properties(vec_embedded_8000, ngrams_properties['CDR3_AA_POLARITY'].tolist(), title='Polarity')\n",
    "plt.subplot(133)\n",
    "plot_embedding_with_properties(vec_embedded_8000, ngrams_properties['CDR3_AA_AROMATIC'].tolist(), title='Aromatic')"
   ]
  },
  {
   "cell_type": "code",
   "execution_count": null,
   "metadata": {},
   "outputs": [],
   "source": [
    "plt.hist(ngrams_properties['CDR3_AA_POLARITY'], bins = 50)"
   ]
  }
 ],
 "metadata": {
  "kernelspec": {
   "display_name": "Python 3",
   "language": "python",
   "name": "python3"
  },
  "language_info": {
   "codemirror_mode": {
    "name": "ipython",
    "version": 3
   },
   "file_extension": ".py",
   "mimetype": "text/x-python",
   "name": "python",
   "nbconvert_exporter": "python",
   "pygments_lexer": "ipython3",
   "version": "3.6.3"
  }
 },
 "nbformat": 4,
 "nbformat_minor": 2
}
